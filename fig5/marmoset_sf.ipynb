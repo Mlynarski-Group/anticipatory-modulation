{
 "cells": [
  {
   "cell_type": "code",
   "execution_count": null,
   "metadata": {},
   "outputs": [],
   "source": [
    "# This notebook loads in the data from the marmoset and computes a histogram of the spatial frequency selectivity\n",
    "\n",
    "import numpy as np\n",
    "import pandas as pd\n",
    "import matplotlib.pyplot as plt"
   ]
  },
  {
   "cell_type": "code",
   "execution_count": null,
   "metadata": {},
   "outputs": [],
   "source": [
    "marm_data = pd.read_hdf('../data/parker/marm.h5')"
   ]
  },
  {
   "cell_type": "code",
   "execution_count": 3,
   "metadata": {},
   "outputs": [],
   "source": [
    "def get_group_h5_keys(savepath):\n",
    "    \"\"\" Get the keys of a group h5 file.\n",
    "\n",
    "    This will list the keys (i.e. the session names) of an h5 file\n",
    "    written by the function write_group_h5 (above). It does not need\n",
    "    to read the entire file into memory to check these values.\n",
    "\n",
    "    Parameters\n",
    "    ----------\n",
    "    savepath : str\n",
    "        Path to the .h5 file.\n",
    "    \n",
    "    Returns\n",
    "    -------\n",
    "    keys : list\n",
    "        List of keys (i.e. session names) in the h5 file.\n",
    "\n",
    "    \"\"\"\n",
    "\n",
    "    with pd.HDFStore(savepath) as hdf:\n",
    "        \n",
    "        keys = [k.replace('/','') for k in hdf.keys()]\n",
    "\n",
    "    return keys"
   ]
  },
  {
   "cell_type": "code",
   "execution_count": 4,
   "metadata": {},
   "outputs": [],
   "source": [
    "def read_group_h5(path, keys=None):\n",
    "    \"\"\" Read a group h5 file.\n",
    "\n",
    "    This will read in a group h5 file written by the function\n",
    "    write_group_h5 (above). It will read in all keys and stack\n",
    "    them into a single dataframe. Alternatively, you can specify\n",
    "    a list of keys to read in from the keys present, and only those\n",
    "    recordings will be read into memory and stacked together.\n",
    "    \n",
    "    Parameters\n",
    "    ----------\n",
    "    path : str\n",
    "        Path to the .h5 file.\n",
    "    keys : list or str (optional).\n",
    "        List of keys (i.e. session names) in the h5 file. If None,\n",
    "        all keys will be read in.\n",
    "    \n",
    "    Returns\n",
    "    -------\n",
    "    df : pandas.DataFrame\n",
    "        Dataframe containing all data from the h5 file.\n",
    "\n",
    "    \"\"\"\n",
    "\n",
    "    if type(keys) == str:\n",
    "\n",
    "        df = pd.read_hdf(path, keys)\n",
    "\n",
    "        return df\n",
    "    \n",
    "    if keys is None:\n",
    "\n",
    "        keys = get_group_h5_keys(path)\n",
    "\n",
    "    dfs = []\n",
    "    for k in sorted(keys):\n",
    "\n",
    "        _df = pd.read_hdf(path, k) \n",
    "        dfs.append(_df)\n",
    "\n",
    "    df = pd.concat(dfs)\n",
    "\n",
    "    return df"
   ]
  },
  {
   "cell_type": "code",
   "execution_count": null,
   "metadata": {},
   "outputs": [],
   "source": [
    "mouse_data = read_group_h5('data/parker/hffm.h5')"
   ]
  },
  {
   "cell_type": "code",
   "execution_count": 4,
   "metadata": {},
   "outputs": [
    {
     "ename": "IndexError",
     "evalue": "only integers, slices (`:`), ellipsis (`...`), numpy.newaxis (`None`) and integer or boolean arrays are valid indices",
     "output_type": "error",
     "traceback": [
      "\u001b[0;31m---------------------------------------------------------------------------\u001b[0m",
      "\u001b[0;31mIndexError\u001b[0m                                Traceback (most recent call last)",
      "Cell \u001b[0;32mIn[4], line 3\u001b[0m\n\u001b[1;32m      1\u001b[0m \u001b[38;5;66;03m# compute a histogram of the preferred spatial frequency\u001b[39;00m\n\u001b[1;32m      2\u001b[0m bins \u001b[38;5;241m=\u001b[39m np\u001b[38;5;241m.\u001b[39mlogspace(np\u001b[38;5;241m.\u001b[39mlog10(\u001b[38;5;241m0.01\u001b[39m), np\u001b[38;5;241m.\u001b[39mlog10(\u001b[38;5;241m10\u001b[39m), \u001b[38;5;241m50\u001b[39m)\n\u001b[0;32m----> 3\u001b[0m \u001b[38;5;28mprint\u001b[39m(\u001b[38;5;28mlen\u001b[39m(\u001b[43mmarm_data\u001b[49m\u001b[43m[\u001b[49m\u001b[38;5;124;43m'\u001b[39;49m\u001b[38;5;124;43msf_pref\u001b[39;49m\u001b[38;5;124;43m'\u001b[39;49m\u001b[43m]\u001b[49m))\n\u001b[1;32m      4\u001b[0m \u001b[38;5;28mprint\u001b[39m(\u001b[38;5;28mlen\u001b[39m(mouse_data[\u001b[38;5;124m'\u001b[39m\u001b[38;5;124msf_pref_cpd\u001b[39m\u001b[38;5;124m'\u001b[39m]))\n\u001b[1;32m      5\u001b[0m plt\u001b[38;5;241m.\u001b[39mhist(marm_data[\u001b[38;5;124m'\u001b[39m\u001b[38;5;124msf_pref\u001b[39m\u001b[38;5;124m'\u001b[39m], bins\u001b[38;5;241m=\u001b[39mbins, weights\u001b[38;5;241m=\u001b[39mnp\u001b[38;5;241m.\u001b[39mones_like(marm_data[\u001b[38;5;124m'\u001b[39m\u001b[38;5;124msf_pref\u001b[39m\u001b[38;5;124m'\u001b[39m])\u001b[38;5;241m/\u001b[39m\u001b[38;5;28mlen\u001b[39m(marm_data[\u001b[38;5;124m'\u001b[39m\u001b[38;5;124msf_pref\u001b[39m\u001b[38;5;124m'\u001b[39m]), label\u001b[38;5;241m=\u001b[39m\u001b[38;5;124m'\u001b[39m\u001b[38;5;124mmarmoset\u001b[39m\u001b[38;5;124m'\u001b[39m)\n",
      "\u001b[0;31mIndexError\u001b[0m: only integers, slices (`:`), ellipsis (`...`), numpy.newaxis (`None`) and integer or boolean arrays are valid indices"
     ]
    }
   ],
   "source": [
    "# compute a histogram of the preferred spatial frequency\n",
    "bins = np.logspace(np.log10(0.01), np.log10(10), 50)\n",
    "print(len(marm_data['sf_pref']))\n",
    "print(len(mouse_data['sf_pref_cpd']))\n",
    "plt.hist(marm_data['sf_pref'], bins=bins, weights=np.ones_like(marm_data['sf_pref'])/len(marm_data['sf_pref']), label='marmoset')\n",
    "plt.hist(mouse_data['sf_pref_cpd'], bins=bins, weights=np.ones_like(mouse_data['sf_pref_cpd'])/len(mouse_data['sf_pref_cpd']), label='mouse')\n",
    "plt.xscale('log')\n",
    "plt.legend()\n",
    "plt.xlabel('Preferred spatial frequency (cpd)')\n",
    "plt.ylabel('Proportion of cells')"
   ]
  },
  {
   "cell_type": "code",
   "execution_count": null,
   "metadata": {},
   "outputs": [],
   "source": [
    "# save the mouse and marmoset spatial frequencies as a npy array\n",
    "np.save('../data/parker/marm_sf.npy', marm_data['sf_pref'])\n",
    "np.save('../data/parker/mouse_sf.npy', mouse_data['sf_pref_cpd'])"
   ]
  },
  {
   "cell_type": "code",
   "execution_count": null,
   "metadata": {},
   "outputs": [],
   "source": [
    "# save the mouse and marmoset spatial frequencies as a npy array\n",
    "marm_data = np.load('../data/parker/marm_sf.npy')\n",
    "mouse_data = np.load('../data/parker/mouse_sf.npy')"
   ]
  },
  {
   "cell_type": "code",
   "execution_count": 4,
   "metadata": {},
   "outputs": [
    {
     "data": {
      "text/plain": [
       "9.649429471025163"
      ]
     },
     "execution_count": 4,
     "metadata": {},
     "output_type": "execute_result"
    }
   ],
   "source": [
    "marm_data.max()"
   ]
  },
  {
   "cell_type": "code",
   "execution_count": 19,
   "metadata": {},
   "outputs": [
    {
     "name": "stdout",
     "output_type": "stream",
     "text": [
      "334\n",
      "716\n"
     ]
    },
    {
     "data": {
      "image/png": "[encoded data removed]",
      "text/plain": [
       "<Figure size 640x480 with 1 Axes>"
      ]
     },
     "metadata": {},
     "output_type": "display_data"
    }
   ],
   "source": [
    "# compute a histogram of the preferred spatial frequency\n",
    "bins = 2*np.logspace(-2, 1, 25)\n",
    "print(len(marm_data))\n",
    "print(len(mouse_data))\n",
    "plt.hist(marm_data, bins=bins, weights=np.ones_like(marm_data)/len(marm_data), label='marmoset', color='tab:orange')\n",
    "plt.hist(mouse_data, bins=bins, weights=np.ones_like(mouse_data)/len(mouse_data), label='mouse', color='tab:purple')\n",
    "plt.xscale('log')\n",
    "plt.legend()\n",
    "plt.xlabel('Preferred spatial frequency (cpd)')\n",
    "plt.ylabel('Proportion of cells')\n",
    "plt.savefig('cosyne_2025_figures/spatial_freq_mouse_marm.svg', format='svg', bbox_inches='tight')"
   ]
  },
  {
   "cell_type": "code",
   "execution_count": 8,
   "metadata": {},
   "outputs": [
    {
     "data": {
      "text/plain": [
       "0.32000000000000023"
      ]
     },
     "execution_count": 8,
     "metadata": {},
     "output_type": "execute_result"
    }
   ],
   "source": [
    "np.nanmax(mouse_data)"
   ]
  },
  {
   "cell_type": "code",
   "execution_count": null,
   "metadata": {},
   "outputs": [],
   "source": [
    "low_freq_arr = np.linspace(0.02, 0.36, 35)\n",
    "high_freq_arr = np.arange(2, 6.12, .12)\n",
    "freq_arr = np.concatenate((low_freq_arr, high_freq_arr))"
   ]
  },
  {
   "cell_type": "code",
   "execution_count": null,
   "metadata": {},
   "outputs": [],
   "source": []
  },
  {
   "cell_type": "code",
   "execution_count": 52,
   "metadata": {},
   "outputs": [
    {
     "data": {
      "text/plain": [
       "array([0.02, 0.03, 0.04, 0.05, 0.06, 0.07, 0.08, 0.09, 0.1 , 0.11, 0.12,\n",
       "       0.13, 0.14, 0.15, 0.16, 0.17, 0.18, 0.19, 0.2 , 0.21, 0.22, 0.23,\n",
       "       0.24, 0.25, 0.26, 0.27, 0.28, 0.29, 0.3 , 0.31, 0.32, 0.33, 0.34,\n",
       "       0.35, 0.36, 2.  , 2.12, 2.24, 2.36, 2.48, 2.6 , 2.72, 2.84, 2.96,\n",
       "       3.08, 3.2 , 3.32, 3.44, 3.56, 3.68, 3.8 , 3.92, 4.04, 4.16, 4.28,\n",
       "       4.4 , 4.52, 4.64, 4.76, 4.88, 5.  , 5.12, 5.24, 5.36, 5.48, 5.6 ,\n",
       "       5.72, 5.84, 5.96, 6.08])"
      ]
     },
     "execution_count": 52,
     "metadata": {},
     "output_type": "execute_result"
    }
   ],
   "source": [
    "freq_arr"
   ]
  },
  {
   "cell_type": "code",
   "execution_count": null,
   "metadata": {},
   "outputs": [],
   "source": []
  }
 ],
 "metadata": {
  "kernelspec": {
   "display_name": "lococoding",
   "language": "python",
   "name": "python3"
  },
  "language_info": {
   "codemirror_mode": {
    "name": "ipython",
    "version": 3
   },
   "file_extension": ".py",
   "mimetype": "text/x-python",
   "name": "python",
   "nbconvert_exporter": "python",
   "pygments_lexer": "ipython3",
   "version": "3.12.2"
  }
 },
 "nbformat": 4,
 "nbformat_minor": 2
}
