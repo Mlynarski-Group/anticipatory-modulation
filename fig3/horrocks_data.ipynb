{
 "cells": [
  {
   "cell_type": "code",
   "execution_count": null,
   "id": "97e07ada",
   "metadata": {},
   "outputs": [],
   "source": [
    "'''\n",
    "This notebook analyzes the data from the paper by Horrocks et al.\n",
    "\n",
    "Date: 29.04.2024\n",
    "Author: Jonathan Gant\n",
    "'''\n",
    "\n",
    "import numpy as np\n",
    "import pandas as pd\n",
    "import matplotlib.pyplot as plt\n",
    "from scipy.io import loadmat"
   ]
  },
  {
   "cell_type": "markdown",
   "id": "e3e7fef9",
   "metadata": {},
   "source": [
    "# Load from excel files"
   ]
  },
  {
   "cell_type": "code",
   "execution_count": null,
   "id": "13dd6010",
   "metadata": {},
   "outputs": [],
   "source": [
    "datadir = 'data/horrocks/'\n",
    "\n",
    "fname = 'F1d_run.xls'\n",
    "running_trials = pd.read_excel(datadir + fname, header=0).to_numpy()\n",
    "fname = 'F1d_stat.xls'\n",
    "stationary_trials = pd.read_excel(datadir + fname, header=0).to_numpy()"
   ]
  },
  {
   "cell_type": "code",
   "execution_count": null,
   "id": "e5e7dd87",
   "metadata": {},
   "outputs": [],
   "source": [
    "import matplotlib.colors as mcolors\n",
    "\n",
    "norm = mcolors.Normalize(vmin=0, vmax=2)\n",
    "\n",
    "fig, ax = plt.subplots(1, 2, figsize=(5, 8))\n",
    "\n",
    "ax[0].imshow(stationary_trials, cmap='Reds', origin='lower', norm=norm)\n",
    "ax[1].imshow(running_trials, cmap='Reds', origin='lower', norm=norm)"
   ]
  },
  {
   "cell_type": "code",
   "execution_count": null,
   "id": "a4506651",
   "metadata": {},
   "outputs": [],
   "source": [
    "avg_running_fr = np.mean(running_trials, axis=0)\n",
    "avg_stationary_fr = np.mean(stationary_trials, axis=0)\n",
    "times = np.linspace(-.2, 1.8, len(avg_stationary_fr), endpoint=False)\n",
    "\n",
    "plt.plot(times, avg_stationary_fr, color='tab:red', linewidth=2)\n",
    "plt.plot(times, avg_running_fr, color='tab:blue', linewidth=2)\n",
    "# plt.xlim(0, 1)"
   ]
  },
  {
   "cell_type": "code",
   "execution_count": null,
   "id": "493319ab",
   "metadata": {},
   "outputs": [],
   "source": [
    "# make a new directory for individual responses\n",
    "import os\n",
    "if not os.path.exists('../../../Writings/locomotion_coding_manuscript/fig3/individual_responses/'):\n",
    "    os.makedirs('../../../Writings/locomotion_coding_manuscript/fig3/individual_responses/', exist_ok=True)\n",
    "\n",
    "for i in range(len(stationary_trials)):\n",
    "    fig, ax = plt.subplots(figsize=(4, 3))\n",
    "    # remove top and right spines\n",
    "    ax.spines['top'].set_visible(False)\n",
    "    ax.spines['right'].set_visible(False)\n",
    "    ax.plot(times, stationary_trials[i, :], color='tab:gray', linewidth=0.5, alpha=0.5)\n",
    "    ax.plot(times, running_trials[i, :], color='tab:orange', linewidth=0.5, alpha=0.5)\n",
    "    ax.set_ylim(0, 1)\n",
    "    ax.set_xlim(-.2, 1.8)\n",
    "    ax.set_title(f'Neuron {i} Response')\n",
    "    ax.set_xlabel('Time (s)')\n",
    "    ax.set_ylabel('Norm. firing rate')\n",
    "    # create a gray square in the backgroun from 0 to 1 second\n",
    "    ax.axvspan(0, 1, color='gray', alpha=0.2)\n",
    "    plt.savefig(f'../../../Writings/locomotion_coding_manuscript/fig3/individual_responses/neuron_{i}_response.pdf', bbox_inches='tight', format='pdf')\n",
    "    plt.close(fig)"
   ]
  },
  {
   "cell_type": "code",
   "execution_count": null,
   "id": "38ab4153",
   "metadata": {},
   "outputs": [],
   "source": [
    "times[20:120].shape"
   ]
  },
  {
   "cell_type": "code",
   "execution_count": null,
   "id": "3cd53bf4",
   "metadata": {},
   "outputs": [],
   "source": [
    "# directly load the average\n",
    "mean_running_fr = pd.read_excel(datadir + 'F1e_run.xls', header=None).to_numpy()[0, :]\n",
    "mean_stationary_fr = pd.read_excel(datadir + 'F1e_stat.xls', header=None).to_numpy()[0, :]"
   ]
  },
  {
   "cell_type": "code",
   "execution_count": null,
   "id": "92d5ba12",
   "metadata": {},
   "outputs": [],
   "source": [
    "# plt.plot(np.linspace(0, .99, 100), mean_stationary_fr[25]:120], color='tab:red', linewidth=2)\n",
    "# plt.plot(np.linspace(0, .99, 100), mean_running_fr[25]:120], color='tab:blue', linewidth=2)\n",
    "plt.plot(times, mean_stationary_fr, color='tab:gray', linewidth=2)\n",
    "plt.plot(times, mean_running_fr, color='tab:orange', linewidth=2)\n",
    "plt.ylim(0, 18)\n",
    "plt.xlim(-.2, 1.8)\n",
    "# create a gray square in the backgroun from 0 to 1 second\n",
    "plt.axvspan(0, 1, color='gray', alpha=0.2)\n",
    "plt.savefig('../../../Writings/locomotion_coding_manuscript/fig3/population_avg_horrocks.pdf', bbox_inches='tight', format='pdf')"
   ]
  },
  {
   "cell_type": "code",
   "execution_count": null,
   "id": "ff136b98",
   "metadata": {},
   "outputs": [],
   "source": [
    "np.argmax(mean_stationary_fr)"
   ]
  },
  {
   "cell_type": "code",
   "execution_count": null,
   "id": "777a648f",
   "metadata": {},
   "outputs": [],
   "source": [
    "np.argmax(mean_running_fr)"
   ]
  },
  {
   "cell_type": "code",
   "execution_count": null,
   "id": "7c1f5727",
   "metadata": {},
   "outputs": [],
   "source": [
    "# compute the ACF of the avg running and stationary firing rates\n",
    "from statsmodels.tsa.stattools import acf\n",
    "\n",
    "n_lags = 99\n",
    "\n",
    "demean_mean_stationary_fr = mean_stationary_fr - np.mean(mean_stationary_fr)\n",
    "demean_mean_running_fr = mean_running_fr - np.mean(mean_running_fr)\n",
    "\n",
    "stationary_acf = acf(demean_mean_stationary_fr, nlags=n_lags)\n",
    "running_acf = acf(demean_mean_running_fr, nlags=n_lags)\n",
    "plt.plot(np.arange(0, n_lags*10+10, 10), stationary_acf, color='tab:red', linewidth=2)\n",
    "plt.plot(np.arange(0, n_lags*10+10, 10), running_acf, color='tab:blue', linewidth=2)\n",
    "# plt.xlim(0, 250)"
   ]
  },
  {
   "cell_type": "code",
   "execution_count": null,
   "id": "adbf7fb7",
   "metadata": {},
   "outputs": [],
   "source": [
    "# commpute the fourier transform of the average firing rates\n",
    "from scipy.fft import rfft, rfftfreq\n",
    "\n",
    "N = len(mean_running_fr)\n",
    "T = 0.01\n",
    "yf = rfft(mean_running_fr)\n",
    "xf = rfftfreq(N, T)\n",
    "plt.plot(xf, np.abs(yf), color='tab:blue', linewidth=2)\n",
    "yf = rfft(mean_stationary_fr)\n",
    "xf = rfftfreq(N, T)\n",
    "plt.plot(xf, np.abs(yf), color='tab:red', linewidth=2)\n",
    "plt.yscale('log')"
   ]
  },
  {
   "cell_type": "code",
   "execution_count": null,
   "id": "49227b5f",
   "metadata": {},
   "outputs": [],
   "source": [
    "np.linspace(-.2, 1.79, np.shape(stationary_trials)[1])[20:120].shape"
   ]
  },
  {
   "cell_type": "code",
   "execution_count": null,
   "id": "9b70e1c0",
   "metadata": {},
   "outputs": [],
   "source": [
    "from scipy.stats import mode\n",
    "running_peak_idx = np.argmax(running_trials, axis=1)\n",
    "stationary_peak_idx = np.argmax(stationary_trials, axis=1)\n",
    "\n",
    "mode_peak_idx = mode(np.concatenate([running_peak_idx, stationary_peak_idx]))[0]"
   ]
  },
  {
   "cell_type": "code",
   "execution_count": null,
   "id": "79c779fb",
   "metadata": {},
   "outputs": [],
   "source": [
    "stationary_trials.shape"
   ]
  },
  {
   "cell_type": "code",
   "execution_count": null,
   "id": "2cbdb13f",
   "metadata": {},
   "outputs": [],
   "source": [
    "# compute the ACF and fourier spectrum for each trial\n",
    "import scipy.signal as signal\n",
    "n_lags = 49\n",
    "start_idx = 0\n",
    "end_idx = 200\n",
    "\n",
    "stationary_trials_subset = stationary_trials[:, start_idx:end_idx]\n",
    "running_trials_subset = running_trials[:, start_idx:end_idx]\n",
    "stationary_trials_subset -= np.mean(stationary_trials_subset, axis=1, keepdims=True)\n",
    "running_trials_subset -= np.mean(running_trials_subset, axis=1, keepdims=True)\n",
    "\n",
    "stationary_acf_all = np.zeros((len(stationary_trials), n_lags+1))\n",
    "running_acf_all = np.zeros((len(running_trials), n_lags+1))\n",
    "stationary_spectra_all = np.zeros((len(stationary_trials), (end_idx - start_idx)//2 + 1))\n",
    "running_spectra_all = np.zeros((len(running_trials), (end_idx - start_idx)//2 + 1))\n",
    "for i in range(len(stationary_trials)):\n",
    "    stationary_acf_all[i, :] = acf(stationary_trials_subset[i, :], nlags=n_lags)\n",
    "    running_acf_all[i, :] = acf(running_trials_subset[i, :], nlags=n_lags)\n",
    "    stationary_spectra_all[i, :] = np.abs(np.fft.rfft(stationary_trials_subset[i, :]))**2\n",
    "    running_spectra_all[i, :] = np.abs(np.fft.rfft(running_trials_subset[i, :]))**2\n"
   ]
  },
  {
   "cell_type": "code",
   "execution_count": null,
   "id": "81f168c4",
   "metadata": {},
   "outputs": [],
   "source": [
    "# compute the frequency\n",
    "freqs = np.fft.rfftfreq(np.shape(running_trials[:, start_idx:end_idx])[1], 1/100)"
   ]
  },
  {
   "cell_type": "code",
   "execution_count": null,
   "id": "47b76c38",
   "metadata": {},
   "outputs": [],
   "source": [
    "np.arange(0, 2000, 10)[20:120].shape"
   ]
  },
  {
   "cell_type": "code",
   "execution_count": null,
   "id": "67fae484",
   "metadata": {},
   "outputs": [],
   "source": [
    "# randomly plot 25 trials in a 5 by 5 grid\n",
    "fig, ax = plt.subplots(5, 5, figsize=(15, 15), sharex=True, sharey=True)\n",
    "for i in range(5):\n",
    "    for j in range(5):\n",
    "        idx = np.random.randint(0, len(stationary_trials))\n",
    "        ax[i, j].plot(np.arange(0, 500, 10), stationary_acf_all[idx, :], color='tab:red', linewidth=2)\n",
    "        ax[i, j].plot(np.arange(0, 500, 10), running_acf_all[idx, :], color='tab:blue', linewidth=2)\n",
    "        ax[i, j].set_title(f'Neuron {idx}')\n",
    "        if i == 4:\n",
    "            ax[i, j].set_xlabel('Lag (ms)')\n",
    "        if j == 0:\n",
    "            ax[i, j].set_ylabel('Correlation')"
   ]
  },
  {
   "cell_type": "code",
   "execution_count": null,
   "id": "59cb72dc",
   "metadata": {},
   "outputs": [],
   "source": [
    "# randomly plot 25 trials in a 5 by 5 grid\n",
    "fig, ax = plt.subplots(5, 5, figsize=(15, 15), sharex=True, sharey=True)\n",
    "for i in range(5):\n",
    "    for j in range(5):\n",
    "        idx = np.random.randint(0, len(stationary_trials))\n",
    "        ax[i, j].plot(freqs[1:], stationary_spectra_all[idx, 1:], color='tab:red', linewidth=2)\n",
    "        ax[i, j].plot(freqs[1:], running_spectra_all[idx, 1:], color='tab:blue', linewidth=2)\n",
    "        ax[i, j].set_title(f'Neuron {idx}')\n",
    "        ax[i, j].set_yscale('log')\n",
    "        if i == 4:\n",
    "            ax[i, j].set_xlabel('Lag (ms)')\n",
    "        if j == 0:\n",
    "            ax[i, j].set_ylabel('Correlation')"
   ]
  },
  {
   "cell_type": "code",
   "execution_count": null,
   "id": "101bd2c9",
   "metadata": {},
   "outputs": [],
   "source": [
    "# make a directory to save the figures\n",
    "import os\n",
    "dir_name = '../../../Writings/locomotion_coding_manuscript/fig3/horrocks_acf'\n",
    "if not os.path.exists(dir_name):\n",
    "    os.makedirs(dir_name)"
   ]
  },
  {
   "cell_type": "code",
   "execution_count": null,
   "id": "f22d675f",
   "metadata": {},
   "outputs": [],
   "source": [
    "# save all individual ACFs\n",
    "for i in range(len(stationary_trials)):\n",
    "        fig, ax = plt.subplots(1, 1, figsize=(4, 3))\n",
    "        ax.plot(np.arange(0, 500, 10), stationary_acf_all[i, :], color='tab:gray', linewidth=1)\n",
    "        ax.plot(np.arange(0, 500, 10), running_acf_all[i, :], color='tab:orange', linewidth=1)\n",
    "        ax.set_ylim(-1, 1)\n",
    "        ax.set_title(f'Neuron {i}')\n",
    "        ax.set_xlabel('Lag (ms)')\n",
    "        ax.set_ylabel('Correlation')\n",
    "        ax.axhline(0, color='k', linestyle=':')\n",
    "        plt.savefig(f'{dir_name}/acf_neuron_{i})_start_{start_idx}_end_{end_idx}.pdf', bbox_inches='tight', format='pdf')\n",
    "        plt.close(fig)"
   ]
  },
  {
   "cell_type": "code",
   "execution_count": null,
   "id": "bdd6f120",
   "metadata": {},
   "outputs": [],
   "source": [
    "# plot the average ACF and use fill between to show the std\n",
    "from scipy.stats import sem\n",
    "\n",
    "plt.plot(np.arange(0, 500, 10), np.mean(stationary_acf_all, axis=0), color='tab:gray', linewidth=2)\n",
    "plt.fill_between(np.arange(0, 500, 10), np.mean(stationary_acf_all, axis=0) - np.std(stationary_acf_all, axis=0), np.mean(stationary_acf_all, axis=0) + np.std(stationary_acf_all, axis=0), color='tab:gray', alpha=0.2)\n",
    "plt.plot(np.arange(0, 500, 10), np.mean(running_acf_all, axis=0), color='tab:orange', linewidth=2)\n",
    "plt.fill_between(np.arange(0, 500, 10), np.mean(running_acf_all, axis=0) - np.std(running_acf_all, axis=0), np.mean(running_acf_all, axis=0) + np.std(running_acf_all, axis=0), color='tab:orange', alpha=0.2)\n",
    "plt.ylabel('Correlation')\n",
    "plt.xlabel('Lag (ms)')\n",
    "plt.axhline(0, color='k', linestyle=':')\n",
    "# plt.xlim(0, 500)\n",
    "plt.ylim(-1, 1)\n",
    "plt.title('Average ACF of firing rates')\n",
    "# plt.xlim(0, 500)\n",
    "plt.savefig(f'{dir_name}/average_acf_start_{start_idx}_end_{end_idx}.pdf', bbox_inches='tight', format='pdf')"
   ]
  },
  {
   "cell_type": "code",
   "execution_count": null,
   "id": "180b43e1",
   "metadata": {},
   "outputs": [],
   "source": [
    "# find which neurons are most similar to the average ACF\n",
    "avg_acf_stationary = np.mean(stationary_acf_all, axis=0)\n",
    "distances_stationary = np.sum(np.abs(stationary_acf_all - avg_acf_stationary.reshape(1, -1)), axis=-1).flatten()\n",
    "avg_acf_running = np.mean(running_acf_all, axis=0)\n",
    "distances_running = np.sum(np.abs(running_acf_all - avg_acf_running.reshape(1, -1)), axis=-1).flatten()\n",
    "\n",
    "# find the 10 most similar neurons to the average ACF\n",
    "similarity_score = distances_stationary + distances_running\n",
    "most_similar_neurons = np.argsort(similarity_score)[-20:]\n",
    "\n",
    "print(most_similar_neurons)"
   ]
  },
  {
   "cell_type": "code",
   "execution_count": null,
   "id": "3eb3c27f",
   "metadata": {},
   "outputs": [],
   "source": [
    "# save all individual ACFs\n",
    "for i in most_similar_neurons:\n",
    "        fig, ax = plt.subplots(1, 1, figsize=(4, 3))\n",
    "        ax.plot(np.arange(0, 500, 10), stationary_acf_all[i, :], color='tab:gray', linewidth=1)\n",
    "        ax.plot(np.arange(0, 500, 10), running_acf_all[i, :], color='tab:orange', linewidth=1)\n",
    "        ax.set_ylim(-1, 1)\n",
    "        ax.set_title(f'Neuron {i}')\n",
    "        ax.set_xlabel('Lag (ms)')\n",
    "        ax.set_ylabel('Correlation')\n",
    "        ax.axhline(0, color='k', linestyle=':')\n",
    "        plt.show()\n",
    "        # plt.savefig(f'{dir_name}/acf_neuron_{i})_start_{start_idx}_end_{end_idx}.pdf', bbox_inches='tight', format='pdf')\n",
    "        plt.close(fig)"
   ]
  },
  {
   "cell_type": "code",
   "execution_count": null,
   "id": "18768033",
   "metadata": {},
   "outputs": [],
   "source": [
    "# for each trial interpolate to find at what lag in ms the correlation first drops below a cutoff value\n",
    "\n",
    "cutoff_corr = [0.5]\n",
    "\n",
    "def find_cutoff_lag(acf, cutoff_corr):\n",
    "    \"\"\"\n",
    "    Find the lag at which the ACF first drops below a cutoff value.\n",
    "    \"\"\"\n",
    "    for i in range(len(acf)):\n",
    "        if acf[i] < cutoff_corr:\n",
    "            return np.arange(0, 500, 10)[i]\n",
    "    return np.arange(0, 500, 10)[-1]\n",
    "\n",
    "\n",
    "# find the cutoff lag for each trial\n",
    "stationary_cutoff_lags = np.zeros((len(cutoff_corr), len(stationary_trials)))\n",
    "running_cutoff_lags = np.zeros((len(cutoff_corr), len(running_trials)))\n",
    "for j in range(len(cutoff_corr)):\n",
    "    for i in range(len(stationary_trials)):\n",
    "        stationary_cutoff_lags[j, i] = find_cutoff_lag(stationary_acf_all[i, :], cutoff_corr[j])\n",
    "        running_cutoff_lags[j, i] = find_cutoff_lag(running_acf_all[i, :], cutoff_corr[j])"
   ]
  },
  {
   "cell_type": "code",
   "execution_count": null,
   "id": "7f7064cc",
   "metadata": {},
   "outputs": [],
   "source": [
    "# plot the two distributions of cutoff lags\n",
    "plt.figure(figsize=(6, 4))\n",
    "plt.hist(stationary_cutoff_lags[0, :], bins=20, alpha=0.5, label='Stationary', color='tab:gray')\n",
    "plt.hist(running_cutoff_lags[0, :], bins=20, alpha=0.5, label='Running', color='tab:orange')\n",
    "plt.xlabel('Cutoff lag (ms)')\n",
    "plt.ylabel('Count')\n",
    "plt.title('Distribution of Cutoff Lags for ACF')\n",
    "plt.legend()"
   ]
  },
  {
   "cell_type": "code",
   "execution_count": null,
   "id": "0d3d37a2",
   "metadata": {},
   "outputs": [],
   "source": [
    "# make a density scatter plot of the cutoff lags\n",
    "plt.figure(figsize=(4, 4))\n",
    "plt.hexbin(stationary_cutoff_lags[0, :], running_cutoff_lags[0, :], gridsize=20, cmap='Blues', mincnt=1)\n",
    "plt.xlabel('Stationary Cutoff Lag (ms)')\n",
    "plt.ylabel('Running Cutoff Lag (ms)')\n",
    "plt.title('Density of Cutoff Lags for ACF')\n",
    "# plt.colorbar(label='Count')\n",
    "plt.xlim(0, 300)\n",
    "plt.ylim(0, 300)\n",
    "# add a diagonal line\n",
    "plt.plot([0, 300], [0, 300], color='k', linestyle='--', linewidth=1)\n",
    "# print the fraction of neurons with larger cutoff lags in running than in stationary\n",
    "fraction_larger_running = np.sum(running_cutoff_lags[0, :] > stationary_cutoff_lags[0, :]) / len(stationary_trials)\n",
    "print(f'Fraction of neurons with larger cutoff lags in running than in stationary: {fraction_larger_running:.2f}')"
   ]
  },
  {
   "cell_type": "code",
   "execution_count": null,
   "id": "3ae04e5d",
   "metadata": {},
   "outputs": [],
   "source": [
    "# do a t-test on the running and stationary cutoff lag for the whole population return a single p-value\n",
    "from scipy.stats import ttest_rel\n",
    "p_values = []\n",
    "for j in range(len(cutoff_corr)):\n",
    "    t_stat, p_val = ttest_rel(stationary_cutoff_lags[j, :], running_cutoff_lags[j, :])\n",
    "    p_values.append(p_val)\n",
    "# print the p-values\n",
    "print(\"P-values for cutoff lags:\", p_values)\n",
    "print('t-statistic:', t_stat)"
   ]
  },
  {
   "cell_type": "code",
   "execution_count": null,
   "id": "889effab",
   "metadata": {},
   "outputs": [],
   "source": [
    "diff_lags = running_cutoff_lags - stationary_cutoff_lags\n",
    "cutoff_idx = 0\n",
    "bins = np.linspace(-200, 200, 21)\n",
    "plt.hist(diff_lags[cutoff_idx, :].flatten(), bins=bins, color='tab:blue', alpha=0.5)\n",
    "plt.xlabel('Difference in lag moving - stationary (ms)')\n",
    "plt.axvline(np.mean(diff_lags[cutoff_idx, :]), color='red', linestyle='--', label='Mean')\n",
    "plt.axvline(0, color='k', linestyle='-', label='Zero')\n",
    "# have the pval in the title\n",
    "plt.title(f'Difference in lag moving - stationary (ms)\\nCutoff: {cutoff_corr[cutoff_idx]}, p-value: {p_values[cutoff_idx]}')\n",
    "plt.savefig(f'{dir_name}/diff_lags_hist_data_start_{start_idx}_end_{end_idx}.pdf', bbox_inches='tight', format='pdf')"
   ]
  },
  {
   "cell_type": "code",
   "execution_count": null,
   "id": "187dd112",
   "metadata": {},
   "outputs": [],
   "source": [
    "import matplotlib.pyplot as plt\n",
    "import numpy as np\n",
    "from scipy.stats import gaussian_kde\n",
    "\n",
    "# Create a figure with three subplots\n",
    "fig, ax = plt.subplots(1, 1, figsize=(4*1.5, 4*1.5))\n",
    "\n",
    "# Ensure the x and y axes span the same range\n",
    "min_val = 0\n",
    "max_val = max(np.max(stationary_cutoff_lags), np.max(running_cutoff_lags)) + 10\n",
    "\n",
    "j = 0\n",
    "# Add small jitter to the data for better visualization\n",
    "\n",
    "jitter_strength = 10  # Adjust the jitter strength as needed\n",
    "stationary_cutoff_lags_jittered = stationary_cutoff_lags[j, :] + np.random.uniform(-jitter_strength, jitter_strength, len(stationary_cutoff_lags[j, :]))\n",
    "running_cutoff_lags_jittered = running_cutoff_lags[j, :] + np.random.uniform(-jitter_strength, jitter_strength, len(running_cutoff_lags[j, :]))\n",
    "\n",
    "# Compute the point density using Gaussian KDE\n",
    "xy = np.vstack([stationary_cutoff_lags_jittered, running_cutoff_lags_jittered])\n",
    "# xy = np.vstack([stationary_cutoff_lags[j, :], running_cutoff_lags[j, :]])\n",
    "density = gaussian_kde(xy)(xy)\n",
    "\n",
    "# Sort the points by density so that high-density points are plotted on top\n",
    "idx = density.argsort()\n",
    "stationary_sorted = stationary_cutoff_lags_jittered[idx]\n",
    "running_sorted = running_cutoff_lags_jittered[idx]\n",
    "density_sorted = density[idx]\n",
    "\n",
    "# Create the scatter plot\n",
    "scatter = ax.scatter(\n",
    "    stationary_sorted, running_sorted, c=density_sorted, cmap='Blues', s=50, edgecolor='None', alpha=0.8\n",
    ")\n",
    "\n",
    "# Add labels, title, and grid\n",
    "ax.set_title(f'Cutoff Correlation: {cutoff_corr[j]}')\n",
    "ax.set_xlim(min_val, max_val)\n",
    "ax.set_ylim(min_val, max_val)\n",
    "# also plot a diagonal dashed line\n",
    "ax.plot([min_val, max_val], [min_val, max_val], 'k--', linewidth=1)\n",
    "# remove top and right splines\n",
    "ax.spines['top'].set_visible(False)\n",
    "ax.spines['right'].set_visible(False)\n",
    "\n",
    "ax.set_xlabel('Stationary Cutoff Lags (ms)')\n",
    "ax.set_ylabel('Running Cutoff Lags (ms)')\n",
    "# Add a colorbar\n",
    "cbar = plt.colorbar(scatter, ax=ax)\n",
    "cbar.set_label('Density', rotation=270, labelpad=15)\n",
    "plt.savefig(f'{dir_name}/cutoff_lags_{cutoff_corr[j]}_density_scatter.pdf', bbox_inches='tight', format='pdf')\n",
    "# Adjust layout and show the plot\n",
    "plt.show()\n",
    "# print the fraction where the stationary cutoff lag is less than the running cutoff lag\n",
    "for j in range(len(cutoff_corr)):\n",
    "    print(f'Cutoff correlation: {cutoff_corr[j]}')\n",
    "    print(f'Fraction where stationary cutoff lag is less than running cutoff lag: {np.sum(stationary_cutoff_lags[j, :] < running_cutoff_lags[j, :]) / len(stationary_cutoff_lags[j, :])}')"
   ]
  },
  {
   "cell_type": "code",
   "execution_count": null,
   "id": "96dc782d",
   "metadata": {},
   "outputs": [],
   "source": [
    "import matplotlib.pyplot as plt\n",
    "import numpy as np\n",
    "from scipy.stats import gaussian_kde\n",
    "\n",
    "# Create a figure with three subplots\n",
    "fig, ax = plt.subplots(1, 1, figsize=(6, 6))  # 1 row, 3 columns\n",
    "\n",
    "j = 0\n",
    "\n",
    "# Ensure the x and y axes span the same range\n",
    "min_val = 0\n",
    "max_val = max(np.max(stationary_cutoff_lags[j, :]), np.max(running_cutoff_lags[j, :]))\n",
    "bins = np.arange(0, max_val+10, 10)\n",
    "\n",
    "# Create the scatter plot\n",
    "scatter = ax.hist2d(stationary_cutoff_lags[j, :], running_cutoff_lags[j, :], cmap='Blues', bins=[bins, bins])\n",
    "\n",
    "# Add labels, title, and grid\n",
    "ax.set_title(f'Cutoff Correlation: {cutoff_corr[j]}')\n",
    "ax.set_xlim(min_val, max_val)\n",
    "ax.set_ylim(min_val, max_val)\n",
    "# also plot a diagonal dashed line\n",
    "ax.plot([min_val, max_val], [min_val, max_val], 'k--', linewidth=1)\n",
    "# remove top and right splines\n",
    "ax.spines['top'].set_visible(False)\n",
    "ax.spines['right'].set_visible(False)\n",
    "\n",
    "ax.set_xlabel('Stationary Cutoff Lags (ms)')\n",
    "ax.set_ylabel('Running Cutoff Lags (ms)')\n",
    "# Adjust layout and show the plot\n",
    "# print the fraction where the stationary cutoff lag is less than the running cutoff lag\n",
    "for j in range(len(cutoff_corr)):\n",
    "    print(f'Cutoff correlation: {cutoff_corr[j]}')\n",
    "    print(f'Fraction where stationary cutoff lag is less than running cutoff lag: {np.sum(stationary_cutoff_lags[j, :] < running_cutoff_lags[j, :]) / len(stationary_cutoff_lags[j, :])}')\n",
    "cbar = fig.colorbar(scatter[3], ax=ax, label='Counts', orientation='vertical')\n",
    "plt.savefig(f'{dir_name}/cutoff_lags_histogram.pdf', bbox_inches='tight', format='pdf')\n"
   ]
  },
  {
   "cell_type": "code",
   "execution_count": null,
   "id": "d856657c",
   "metadata": {},
   "outputs": [],
   "source": [
    "# randomly plot 25 trials in a 5 by 5 grid\n",
    "fig, ax = plt.subplots(5, 5, figsize=(15, 15), sharex=True, sharey=True)\n",
    "for i in range(5):\n",
    "    for j in range(5):\n",
    "        idx = np.random.randint(0, len(stationary_trials))\n",
    "        ax[i, j].plot(freqs, stationary_spectra_all[idx, :], color='tab:red', linewidth=2)\n",
    "        ax[i, j].plot(freqs, running_spectra_all[idx, :], color='tab:blue', linewidth=2)\n",
    "        ax[i, j].set_yscale('log')\n",
    "        ax[i, j].set_title(f'Neuron {idx}')\n",
    "        if i == 4:\n",
    "            ax[i, j].set_xlabel('Lag (ms)')\n",
    "        if j == 0:\n",
    "            ax[i, j].set_ylabel('Correlation')"
   ]
  },
  {
   "cell_type": "code",
   "execution_count": null,
   "id": "0a46d92a",
   "metadata": {},
   "outputs": [],
   "source": [
    "# plot the average spectrum and use fill between to show the std\n",
    "plt.plot(freqs[1:], np.mean(stationary_spectra_all, axis=0)[1:], color='tab:red', linewidth=2)\n",
    "# plt.fill_between(freqs, np.mean(stationary_spectra_all, axis=0) - np.std(stationary_spectra_all, axis=0), np.mean(stationary_spectra_all, axis=0) + np.std(stationary_spectra_all, axis=0), color='tab:red', alpha=0.2)\n",
    "plt.plot(freqs[1:], np.mean(running_spectra_all, axis=0)[1:], color='tab:blue', linewidth=2)\n",
    "# plt.fill_between(freqs, np.mean(running_spectra_all, axis=0) - np.std(running_spectra_all, axis=0), np.mean(running_spectra_all, axis=0) + np.std(running_spectra_all, axis=0), color='tab:blue', alpha=0.2)\n",
    "plt.ylabel('Power')\n",
    "plt.xlabel('Frequency (Hz)')\n",
    "plt.yscale('log')\n",
    "plt.xlim(0, 10)"
   ]
  },
  {
   "cell_type": "code",
   "execution_count": null,
   "id": "fcffc7ff",
   "metadata": {},
   "outputs": [],
   "source": [
    "# compute the centroid of the spectrum\n",
    "def compute_centroid(spectrum, freqs):\n",
    "    \"\"\"\n",
    "    Compute the centroid of a spectrum.\n",
    "    \"\"\"\n",
    "    return np.sum(spectrum * freqs) / np.sum(spectrum)\n",
    "\n",
    "print(compute_centroid(np.mean(stationary_spectra_all, axis=0)[1:100], freqs[1:100]))\n",
    "print(compute_centroid(np.mean(running_spectra_all, axis=0)[1:100], freqs[1:100]))"
   ]
  },
  {
   "cell_type": "code",
   "execution_count": null,
   "id": "8ee42a1f",
   "metadata": {},
   "outputs": [],
   "source": []
  }
 ],
 "metadata": {
  "kernelspec": {
   "display_name": "general",
   "language": "python",
   "name": "python3"
  },
  "language_info": {
   "codemirror_mode": {
    "name": "ipython",
    "version": 3
   },
   "file_extension": ".py",
   "mimetype": "text/x-python",
   "name": "python",
   "nbconvert_exporter": "python",
   "pygments_lexer": "ipython3",
   "version": "3.13.2"
  }
 },
 "nbformat": 4,
 "nbformat_minor": 5
}
