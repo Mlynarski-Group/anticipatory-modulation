{
 "cells": [
  {
   "cell_type": "markdown",
   "id": "910fb01f",
   "metadata": {},
   "source": [
    "# Loading data"
   ]
  },
  {
   "cell_type": "code",
   "execution_count": null,
   "id": "64d5e589",
   "metadata": {},
   "outputs": [],
   "source": [
    "'''\n",
    "This script analyzes the results of stimulated eye movements.\n",
    "Author: Jonathan Gant\n",
    "Date: 13.06.2025\n",
    "'''\n",
    "\n",
    "import numpy as np\n",
    "import h5py\n",
    "import matplotlib.pyplot as plt\n",
    "import bottleneck as bn\n"
   ]
  },
  {
   "cell_type": "code",
   "execution_count": null,
   "id": "fd2e3e6b",
   "metadata": {},
   "outputs": [],
   "source": [
    "all_gabor_responses_eye_movements = h5py.File('../results/new_nat_videos_gabor_responses_full_res_more_low_freq_z_score_eye_movements.h5', 'r')\n",
    "all_gabor_responses_eye_movements_long = h5py.File('../results/new_nat_videos_gabor_responses_full_res_more_low_freq_z_score_eye_movements_2s_interval_stat_only.h5', 'r')"
   ]
  },
  {
   "cell_type": "markdown",
   "id": "2e8181a3",
   "metadata": {},
   "source": [
    "# Compute SD"
   ]
  },
  {
   "cell_type": "code",
   "execution_count": null,
   "id": "5e2de418",
   "metadata": {},
   "outputs": [],
   "source": [
    "import bottleneck as bn\n",
    "\n",
    "environments = ['field', 'forest', 'orchard', 'tall_grass', 'pond']\n",
    "\n",
    "stationary_stim_eye_movements_SD = []\n",
    "moving_stim_eye_movements_SD = []\n",
    "stationary_stim_eye_movements = []\n",
    "moving_stim_eye_movements = []\n",
    "stationary_stim_eye_movements_long_SD = []\n",
    "stationary_stim_eye_movements_long = []\n",
    "\n",
    "fps = 30\n",
    "window_length = np.array([5]) # seconds\n",
    "window_size = window_length * fps\n",
    "print(window_size)\n",
    "num_samples = 1740\n",
    "\n",
    "# get the responses for each environment\n",
    "for i in range(len(window_size)):\n",
    "    stationary_stim_eye_movements_SD_temp = []\n",
    "    moving_stim_eye_movements_SD_temp = []\n",
    "    stationary_stim_eye_movements_temp = []\n",
    "    moving_stim_eye_movements_temp = []\n",
    "    stationary_stim_eye_movements_long_SD_temp = []\n",
    "    stationary_stim_eye_movements_long_temp = []\n",
    "    for env_key in environments:\n",
    "        all_gabor_responses_env_eye_movements = all_gabor_responses_eye_movements[env_key]\n",
    "        all_gabor_responses_env_eye_movements_long = all_gabor_responses_eye_movements_long[env_key]\n",
    "        for vid_key in all_gabor_responses_env_eye_movements.keys():\n",
    "            # compute the moving SD\n",
    "            resp_SD = bn.move_std(all_gabor_responses_env_eye_movements[vid_key][()], window=window_size[i], min_count=window_size[i], axis=-1)[:, :, :, :, :num_samples]\n",
    "            if 'stationary' in vid_key:\n",
    "                stationary_stim_eye_movements_SD_temp.append(resp_SD)\n",
    "                stationary_stim_eye_movements_temp.append(all_gabor_responses_env_eye_movements[vid_key][()][:, :, :, :, :num_samples])\n",
    "            if 'moving' in vid_key and 'free_moving' not in vid_key:\n",
    "                moving_stim_eye_movements_SD_temp.append(resp_SD)\n",
    "                moving_stim_eye_movements_temp.append(all_gabor_responses_env_eye_movements[vid_key][()][:, :, :, :, :num_samples])\n",
    "        for vid_key in all_gabor_responses_env_eye_movements_long.keys():\n",
    "            # compute the moving SD\n",
    "            resp_SD = bn.move_std(all_gabor_responses_env_eye_movements_long[vid_key][()], window=window_size[i], min_count=window_size[i], axis=-1)[:, :, :, :, :num_samples]\n",
    "            if 'stationary' in vid_key:\n",
    "                stationary_stim_eye_movements_long_SD_temp.append(resp_SD)\n",
    "                stationary_stim_eye_movements_long_temp.append(all_gabor_responses_env_eye_movements_long[vid_key][()][:, :, :, :, :num_samples])\n",
    "    stationary_stim_eye_movements_SD.append(stationary_stim_eye_movements_SD_temp)\n",
    "    moving_stim_eye_movements_SD.append(moving_stim_eye_movements_SD_temp)\n",
    "    stationary_stim_eye_movements.append(stationary_stim_eye_movements_temp)\n",
    "    moving_stim_eye_movements.append(moving_stim_eye_movements_temp)\n",
    "    stationary_stim_eye_movements_long_SD.append(stationary_stim_eye_movements_long_SD_temp)\n",
    "    stationary_stim_eye_movements_long.append(stationary_stim_eye_movements_long_temp)"
   ]
  },
  {
   "cell_type": "code",
   "execution_count": null,
   "id": "c89bee62",
   "metadata": {},
   "outputs": [],
   "source": [
    "# convert everything to numpy arrays\n",
    "stationary_stim_eye_movements_SD = np.array(stationary_stim_eye_movements_SD)\n",
    "moving_stim_eye_movements_SD = np.array(moving_stim_eye_movements_SD)\n",
    "stationary_stim_eye_movements_long_SD = np.array(stationary_stim_eye_movements_long_SD)\n",
    "stationary_stim_eye_movements = np.array(stationary_stim_eye_movements)\n",
    "moving_stim_eye_movements = np.array(moving_stim_eye_movements)\n",
    "stationary_stim_eye_movements_long = np.array(stationary_stim_eye_movements_long)"
   ]
  },
  {
   "cell_type": "code",
   "execution_count": null,
   "id": "54029d04",
   "metadata": {},
   "outputs": [],
   "source": [
    "all_gabor_responses_eye_movements_long['freq_arr'][()]"
   ]
  },
  {
   "cell_type": "code",
   "execution_count": null,
   "id": "cca426d2",
   "metadata": {},
   "outputs": [],
   "source": [
    "mean_SD_moving_stim_eye_movements = np.nanmean(moving_stim_eye_movements_SD, axis=(0, 1, -1))\n",
    "mean_SD_stationary_stim_eye_movements = np.nanmean(stationary_stim_eye_movements_SD, axis=(0, 1, -1))\n",
    "mean_SD_stationary_stim_eye_movements_long = np.nanmean(stationary_stim_eye_movements_long_SD, axis=(0, 1, -1))"
   ]
  },
  {
   "cell_type": "code",
   "execution_count": null,
   "id": "fadeafef",
   "metadata": {},
   "outputs": [],
   "source": [
    "plt.figure(figsize=(8, 6))\n",
    "plt.bar([1, 2], [np.nanmean(mean_SD_stationary_stim_eye_movements), np.nanmean(mean_SD_moving_stim_eye_movements)], yerr=[np.nanstd(mean_SD_stationary_stim_eye_movements), np.nanstd(mean_SD_moving_stim_eye_movements)], color=['tab:gray', 'tab:orange'], capsize=5, width=0.5)\n",
    "plt.xticks([1, 2], ['Stationary', 'Moving'])\n",
    "plt.ylabel('Mean SD of Gabor responses')\n",
    "plt.xlim(0.5, 2.5)\n",
    "plt.ylim(0, 70)\n",
    "plt.title('Mean SD of Gabor responses for stationary and moving stimuli with eye movements')\n",
    "plt.savefig('../manuscript_figures/supp1_mean_SD_gabor_responses_eye_movements.pdf', bbox_inches='tight')\n",
    "plt.show()"
   ]
  },
  {
   "cell_type": "code",
   "execution_count": null,
   "id": "f1d823fe",
   "metadata": {},
   "outputs": [],
   "source": [
    "# print the mean and SD\n",
    "print('Mean SD of stationary stimuli with eye movements:', np.nanmean(mean_SD_stationary_stim_eye_movements), '±', np.nanstd(mean_SD_stationary_stim_eye_movements))\n",
    "print('Mean SD of moving stimuli with eye movements:', np.nanmean(mean_SD_moving_stim_eye_movements), '±', np.nanstd(mean_SD_moving_stim_eye_movements))"
   ]
  },
  {
   "cell_type": "code",
   "execution_count": null,
   "id": "3ccf70a5",
   "metadata": {},
   "outputs": [],
   "source": [
    "plt.figure(figsize=(8, 6))\n",
    "plt.bar([1, 2], [np.nanmean(mean_SD_stationary_stim_eye_movements_long), np.nanmean(mean_SD_moving_stim_eye_movements)], yerr=[np.nanstd(mean_SD_stationary_stim_eye_movements_long), np.nanstd(mean_SD_moving_stim_eye_movements)], color=['tab:gray', 'tab:orange'], capsize=5, width=0.5)\n",
    "plt.xticks([1, 2], ['Stationary', 'Moving'])\n",
    "plt.ylabel('Mean SD of Gabor responses')\n",
    "plt.xlim(0.5, 2.5)\n",
    "plt.ylim(0, 70)\n",
    "plt.title('Mean SD of Gabor responses for stationary and moving stimuli with eye movements')\n",
    "plt.savefig('../manuscript_figures/supp1_mean_SD_gabor_responses_eye_movements.pdf', bbox_inches='tight')\n",
    "plt.show()"
   ]
  },
  {
   "cell_type": "code",
   "execution_count": null,
   "id": "6e1b5055",
   "metadata": {},
   "outputs": [],
   "source": [
    "# print the mean and SD\n",
    "print('Mean SD of stationary stimuli with eye movements:', np.nanmean(mean_SD_stationary_stim_eye_movements_long), '±', np.nanstd(mean_SD_stationary_stim_eye_movements_long))\n",
    "print('Mean SD of moving stimuli with eye movements:', np.nanmean(mean_SD_moving_stim_eye_movements), '±', np.nanstd(mean_SD_moving_stim_eye_movements))"
   ]
  },
  {
   "cell_type": "code",
   "execution_count": null,
   "id": "6a13c78e",
   "metadata": {},
   "outputs": [],
   "source": [
    "# also compute the ratio of the means\n",
    "ratio_mean_SD = mean_SD_moving_stim_eye_movements/mean_SD_stationary_stim_eye_movements_long\n",
    "avg_ratio_mean_SD = np.nanmean(ratio_mean_SD)\n",
    "std_ratio_mean_SD = np.nanstd(ratio_mean_SD)\n",
    "\n",
    "print('Ratio of means:', avg_ratio_mean_SD, '±', std_ratio_mean_SD)"
   ]
  },
  {
   "cell_type": "code",
   "execution_count": null,
   "id": "84b7c788",
   "metadata": {},
   "outputs": [],
   "source": [
    "plt.figure(figsize=(4, 6))\n",
    "# plt.scatter([1], avg_ratio_mean_SD, yerr=std_ratio_mean_SD, color='k', capsize=5)\n",
    "plt.scatter([1], avg_ratio_mean_SD, color='k', s=100)  # Add a point for the mean\n",
    "# plot the SD as an error bar\n",
    "plt.errorbar([1], avg_ratio_mean_SD, yerr=std_ratio_mean_SD, color='k', capsize=5)\n",
    "plt.xticks([1], ['Moving/Stationary'])\n",
    "plt.ylabel('Mean ratio of SD of Gabor responses')\n",
    "# add a horizontal line at 1\n",
    "plt.axhline(1, color='k', linestyle='--')\n",
    "plt.xlim(0.5, 1.5)\n",
    "plt.ylim(0, 2)\n",
    "plt.title('Mean ratio of SD of Gabor responses for stationary and moving stimuli with eye movements')\n",
    "plt.savefig('../manuscript_figures/supp1_mean_ratio_SD_gabor_responses_eye_movements.pdf', bbox_inches='tight')\n",
    "plt.show()"
   ]
  },
  {
   "cell_type": "code",
   "execution_count": null,
   "id": "af147f7d",
   "metadata": {},
   "outputs": [],
   "source": [
    "# use a paired t-test to compare the means of the two conditions\n",
    "from scipy.stats import ttest_rel\n",
    "t_stat, p_val = ttest_rel(mean_SD_moving_stim_eye_movements.flatten(), mean_SD_stationary_stim_eye_movements_long.flatten(), nan_policy='omit')\n",
    "if p_val < 0.001:\n",
    "    print('p_val:', p_val)\n",
    "    print('t-statistic:', t_stat)\n",
    "    print(\"The means are significantly different.\")"
   ]
  },
  {
   "cell_type": "code",
   "execution_count": null,
   "id": "fba193a9",
   "metadata": {},
   "outputs": [],
   "source": [
    "bins = np.linspace(0, 100, 26)\n",
    "\n",
    "plt.hist(mean_SD_stationary_stim_eye_movements.flatten(), bins=bins, alpha=0.5, color='tab:gray',density=True)\n",
    "plt.hist(mean_SD_moving_stim_eye_movements.flatten(), bins=bins, alpha=0.5, color='tab:orange',density=True)\n",
    "plt.ylabel('Probability')\n",
    "plt.xlabel('SD of Gabor responses')\n",
    "# plot the mean as a vertical line\n",
    "plt.axvline(np.nanmean(mean_SD_stationary_stim_eye_movements), color='tab:gray', linestyle='--', label='Mean Stationary')\n",
    "plt.axvline(np.nanmean(mean_SD_moving_stim_eye_movements), color='tab:orange', linestyle='--', label='Mean Moving')\n",
    "# also print the numerical value of the mean near the line\n",
    "plt.text(np.nanmean(mean_SD_stationary_stim_eye_movements) + 1,\n",
    "         0.02,\n",
    "         f'{np.nanmean(mean_SD_stationary_stim_eye_movements):.2f}',\n",
    "         color='tab:gray',\n",
    "         fontsize=10,\n",
    "         verticalalignment='center')\n",
    "plt.text(np.nanmean(mean_SD_moving_stim_eye_movements) + 1,\n",
    "         0.02,\n",
    "         f'{np.nanmean(mean_SD_moving_stim_eye_movements):.2f}',\n",
    "         color='tab:orange',\n",
    "         fontsize=10,\n",
    "         verticalalignment='center')\n",
    "plt.xlim(0, 100)\n",
    "# plt.yscale('log')\n",
    "plt.title('Dist. SD of Gabor responses for stationary and moving stimuli with eye movements')\n",
    "plt.savefig('../manuscript_figures/supp1_SD_distribution_gabor_responses_eye_movements.pdf', bbox_inches='tight')\n",
    "plt.show()"
   ]
  },
  {
   "cell_type": "code",
   "execution_count": null,
   "id": "41ff6a79",
   "metadata": {},
   "outputs": [],
   "source": [
    "bins = np.linspace(0, 100, 26)\n",
    "\n",
    "plt.hist(mean_SD_stationary_stim_eye_movements_long.flatten(), bins=bins, alpha=0.5, color='tab:gray',density=True)\n",
    "plt.hist(mean_SD_moving_stim_eye_movements.flatten(), bins=bins, alpha=0.5, color='tab:orange',density=True)\n",
    "plt.ylabel('Probability')\n",
    "plt.xlabel('SD of Gabor responses')\n",
    "# plot the mean as a vertical line\n",
    "plt.axvline(np.nanmean(mean_SD_stationary_stim_eye_movements_long), color='tab:gray', linestyle='--', label='Mean Stationary')\n",
    "plt.axvline(np.nanmean(mean_SD_moving_stim_eye_movements), color='tab:orange', linestyle='--', label='Mean Moving')\n",
    "# also print the numerical value of the mean near the line\n",
    "plt.text(np.nanmean(mean_SD_stationary_stim_eye_movements_long) + 1,\n",
    "         0.02,\n",
    "         f'{np.nanmean(mean_SD_stationary_stim_eye_movements_long):.2f}',\n",
    "         color='tab:gray',\n",
    "         fontsize=10,\n",
    "         verticalalignment='center')\n",
    "plt.text(np.nanmean(mean_SD_moving_stim_eye_movements) + 1,\n",
    "         0.02,\n",
    "         f'{np.nanmean(mean_SD_moving_stim_eye_movements):.2f}',\n",
    "         color='tab:orange',\n",
    "         fontsize=10,\n",
    "         verticalalignment='center')\n",
    "plt.xlim(0, 100)\n",
    "# plt.yscale('log')\n",
    "plt.title('Dist. SD of Gabor responses for stationary and moving stimuli with eye movements')\n",
    "plt.savefig('../manuscript_figures/supp1_SD_distribution_gabor_responses_eye_movements.pdf', bbox_inches='tight')\n",
    "plt.show()"
   ]
  },
  {
   "cell_type": "markdown",
   "id": "9a56334a",
   "metadata": {},
   "source": [
    "# Spectrum"
   ]
  },
  {
   "cell_type": "code",
   "execution_count": null,
   "id": "a638e021",
   "metadata": {},
   "outputs": [],
   "source": [
    "# compute the spectrum of the individual filters\n",
    "from scipy.signal import welch\n",
    "\n",
    "def compute_psd_welch(x, fs, window_size, overlap):\n",
    "    \"\"\"\n",
    "    Compute one-sided PSD using Welch's method for a real-valued signal with variable window size and full overlap.\n",
    "\n",
    "    Parameters:\n",
    "    - x: 1D real-valued input signal\n",
    "    - fs: sampling frequency (Hz)\n",
    "    - window_size: length of each segment (samples)\n",
    "\n",
    "    Returns:\n",
    "    - freqs: frequency bins (Hz)\n",
    "    - psd: power spectral density (power/Hz)\n",
    "    \"\"\"\n",
    "    freqs, psd = welch(\n",
    "        x,\n",
    "        fs=fs,\n",
    "        window='boxcar',\n",
    "        nperseg=window_size,\n",
    "        noverlap=overlap,  # full overlap\n",
    "        return_onesided=True,\n",
    "        scaling='density',\n",
    "        detrend='constant'\n",
    "    )\n",
    "    return freqs, psd"
   ]
  },
  {
   "cell_type": "code",
   "execution_count": null,
   "id": "d1609433",
   "metadata": {},
   "outputs": [],
   "source": [
    "stationary_stim_eye_movements.shape"
   ]
  },
  {
   "cell_type": "code",
   "execution_count": null,
   "id": "91f9705e",
   "metadata": {},
   "outputs": [],
   "source": [
    "# compute the fourier transform for each filter and video using scipy\n",
    "\n",
    "sampling_rate = 30\n",
    "window_size = int(5 * sampling_rate)  # 5 seconds window size\n",
    "\n",
    "shape = stationary_stim_eye_movements.shape\n",
    "\n",
    "stationary_stim_psd = np.zeros((shape[1], shape[2], shape[3], shape[4], shape[5], window_size//2+1))\n",
    "moving_stim_psd = np.zeros((shape[1], shape[2], shape[3], shape[4], shape[5], window_size//2+1))\n",
    "for i in range(shape[1]):\n",
    "    _, stationary_stim_psd[i] = compute_psd_welch(stationary_stim_eye_movements_long[0, i], sampling_rate, window_size, window_size//2)\n",
    "    frequencies, moving_stim_psd[i] = compute_psd_welch(moving_stim_eye_movements[0, i], sampling_rate, window_size, window_size//2)"
   ]
  },
  {
   "cell_type": "code",
   "execution_count": null,
   "id": "9f81f37b",
   "metadata": {},
   "outputs": [],
   "source": [
    "# compute the average spectra\n",
    "stationary_stim_psd_mean = np.nanmean(stationary_stim_psd, axis=(0, 1, 2, 3, 4))\n",
    "moving_stim_psd_mean = np.nanmean(moving_stim_psd, axis=(0, 1, 2, 3, 4))"
   ]
  },
  {
   "cell_type": "code",
   "execution_count": null,
   "id": "d1d67016",
   "metadata": {},
   "outputs": [],
   "source": [
    "# plot the average spectra\n",
    "plt.figure(figsize=(8, 6))\n",
    "plt.plot(frequencies[1:-1], stationary_stim_psd_mean[1:-1], label='Stationary', color='tab:gray')\n",
    "plt.plot(frequencies[1:-1], moving_stim_psd_mean[1:-1], label='Moving', color='tab:orange')\n",
    "# plot the SD as fill between\n",
    "# plt.fill_between(frequencies[1:-1], np.clip(stationary_stim_psd_mean[1:-1] - np.nanstd(stationary_stim_psd, axis=(0, 1, 2, 3, 4))[1:-1], 1, np.inf),\n",
    "#                  stationary_stim_psd_mean[1:-1] + np.nanstd(stationary_stim_psd, axis=(0, 1, 2, 3, 4))[1:-1], color='tab:gray', alpha=0.2)\n",
    "# plt.fill_between(frequencies[1:-1], np.clip(moving_stim_psd_mean[1:-1] - np.nanstd(moving_stim_psd, axis=(0, 1, 2, 3, 4))[1:-1], 1, np.inf),\n",
    "#                  moving_stim_psd_mean[1:-1] + np.nanstd(moving_stim_psd, axis=(0, 1, 2, 3, 4))[1:-1], color='tab:orange', alpha=0.2)\n",
    "plt.xlabel('Frequency (Hz)')\n",
    "plt.ylabel('Power Spectral Density (PSD)')\n",
    "plt.yscale('log')\n",
    "plt.xlim(0, 15)\n",
    "plt.title('Average Power Spectral Density of Gabor Responses for Stationary and Moving Stimuli with Eye Movements')\n",
    "plt.legend()\n",
    "plt.savefig('../manuscript_figures/supp1_average_psd_gabor_responses_eye_movements.pdf', bbox_inches='tight')\n",
    "plt.show()"
   ]
  },
  {
   "cell_type": "code",
   "execution_count": null,
   "id": "5a5eb5be",
   "metadata": {},
   "outputs": [],
   "source": [
    "stat_energy = np.cumsum(stationary_stim_psd_mean)\n",
    "moving_energy = np.cumsum(moving_stim_psd_mean)\n",
    "\n",
    "# normalize by the max stat energy\n",
    "norm_factor = np.max(stat_energy)\n",
    "stat_energy /= norm_factor\n",
    "moving_energy /= norm_factor"
   ]
  },
  {
   "cell_type": "code",
   "execution_count": null,
   "id": "8e3452c7",
   "metadata": {},
   "outputs": [],
   "source": [
    "plt.figure(figsize=(8, 6))\n",
    "plt.plot(frequencies[1:-1], stat_energy[1:-1], label='Stationary', color='tab:gray')\n",
    "plt.plot(frequencies[1:-1], moving_energy[1:-1], label='Moving', color='tab:orange')\n",
    "# plot a line at y=1\n",
    "plt.axhline(1, color='k', linestyle='--')\n",
    "plt.xlabel('Frequency (Hz)')\n",
    "plt.xlim(0, 15)\n",
    "plt.ylim(.3, 2)\n",
    "plt.yscale('log')\n",
    "plt.ylabel('Cumulative Power Spectral Density (PSD)')\n",
    "plt.savefig('../manuscript_figures/supp1_cumulative_psd_gabor_responses_eye_movements.pdf', bbox_inches='tight')"
   ]
  },
  {
   "cell_type": "markdown",
   "id": "4560b0a5",
   "metadata": {},
   "source": [
    "# Correlations"
   ]
  },
  {
   "cell_type": "code",
   "execution_count": null,
   "id": "87868980",
   "metadata": {},
   "outputs": [],
   "source": [
    "stationary_stim_eye_movements.shape"
   ]
  },
  {
   "cell_type": "code",
   "execution_count": null,
   "id": "ffffd6d8",
   "metadata": {},
   "outputs": [],
   "source": [
    "# compute the windowed correlations between pairs of filters\n",
    "# chunk the data into windows of 5 seconds\n",
    "# compute the correlations between all pairs of filters in each window\n",
    "\n",
    "\n",
    "# stationary_stim_eye_movements.shape\n",
    "window_length = 5  # seconds\n",
    "window_size = window_length * fps\n",
    "num_windows = stationary_stim_eye_movements.shape[-1] // window_size\n",
    "print(num_windows)\n",
    "# chunk the data into windows\n",
    "stationary_stim_eye_movements_windows = np.array(np.split(stationary_stim_eye_movements[0, :, :, :, :, :, :num_windows * window_size], num_windows, axis=-1))\n",
    "moving_stim_eye_movements_windows = np.array(np.split(moving_stim_eye_movements[0, :, :, :, :, :, :num_windows * window_size], num_windows, axis=-1))"
   ]
  },
  {
   "cell_type": "code",
   "execution_count": null,
   "id": "6827299e",
   "metadata": {},
   "outputs": [],
   "source": [
    "stationary_stim_eye_movements_windows.shape\n",
    "# merge the first and second dimensions together and the thrid, fourth, fifth and sixth dimensions together without using reshape\n",
    "stationary_stim_eye_movements_windows = stationary_stim_eye_movements_windows.reshape(\n",
    "    stationary_stim_eye_movements_windows.shape[0] * stationary_stim_eye_movements_windows.shape[1],\n",
    "    stationary_stim_eye_movements_windows.shape[2] * stationary_stim_eye_movements_windows.shape[3] * stationary_stim_eye_movements_windows.shape[4] * stationary_stim_eye_movements_windows.shape[5],\n",
    "    stationary_stim_eye_movements_windows.shape[6]\n",
    ")\n",
    "moving_stim_eye_movements_windows = moving_stim_eye_movements_windows.reshape(\n",
    "    moving_stim_eye_movements_windows.shape[0] * moving_stim_eye_movements_windows.shape[1],\n",
    "    moving_stim_eye_movements_windows.shape[2] * moving_stim_eye_movements_windows.shape[3] * moving_stim_eye_movements_windows.shape[4] * moving_stim_eye_movements_windows.shape[5],\n",
    "    moving_stim_eye_movements_windows.shape[6]\n",
    ")"
   ]
  },
  {
   "cell_type": "code",
   "execution_count": null,
   "id": "1786deab",
   "metadata": {},
   "outputs": [],
   "source": [
    "from joblib import Parallel, delayed\n",
    "\n",
    "def offdiag_corrs(window):\n",
    "    corr = np.corrcoef(window)\n",
    "    # Extract upper triangle, excluding the diagonal\n",
    "    return corr[np.triu_indices_from(corr, k=1)]\n",
    "\n",
    "# Number of unique filter pairs\n",
    "n_filters = stationary_stim_eye_movements_windows.shape[1]\n",
    "n_pairs = n_filters * (n_filters - 1) // 2\n",
    "\n",
    "# Preallocate arrays for off-diagonal correlations\n",
    "stationary_stim_eye_movements_corr = np.zeros((stationary_stim_eye_movements_windows.shape[0], n_pairs))\n",
    "moving_stim_eye_movements_corr = np.zeros((moving_stim_eye_movements_windows.shape[0], n_pairs))\n",
    "\n",
    "# Compute off-diagonal correlations in parallel\n",
    "stationary_stim_eye_movements_corr = np.stack(\n",
    "    Parallel(n_jobs=-1)(\n",
    "        delayed(offdiag_corrs)(window) for window in stationary_stim_eye_movements_windows\n",
    "    )\n",
    ")\n",
    "moving_stim_eye_movements_corr = np.stack(\n",
    "    Parallel(n_jobs=-1)(\n",
    "        delayed(offdiag_corrs)(window) for window in moving_stim_eye_movements_windows\n",
    "    )\n",
    ")\n",
    "\n",
    "# save the correlations to a numpy file\n",
    "np.save('../results/stationary_moving_stim_eye_movements_corrs.npy', stationary_stim_eye_movements_corr)\n",
    "np.save('../results/moving_stim_eye_movements_corrs.npy', moving_stim_eye_movements_corr)"
   ]
  },
  {
   "cell_type": "code",
   "execution_count": null,
   "id": "431eade6",
   "metadata": {},
   "outputs": [],
   "source": [
    "stationary_stim_eye_movements_corr.shape"
   ]
  },
  {
   "cell_type": "code",
   "execution_count": null,
   "id": "b8bcf4b6",
   "metadata": {},
   "outputs": [],
   "source": [
    "# compute the average correlation\n",
    "avg_corr_stationary = np.nanmean(np.abs(stationary_stim_eye_movements_corr))\n",
    "avg_corr_moving = np.nanmean(np.abs(moving_stim_eye_movements_corr))"
   ]
  },
  {
   "cell_type": "code",
   "execution_count": null,
   "id": "6dcbf487",
   "metadata": {},
   "outputs": [],
   "source": [
    "print(avg_corr_stationary)"
   ]
  },
  {
   "cell_type": "code",
   "execution_count": null,
   "id": "d59006ad",
   "metadata": {},
   "outputs": [],
   "source": [
    "print(avg_corr_moving)"
   ]
  }
 ],
 "metadata": {
  "kernelspec": {
   "display_name": "lococoding",
   "language": "python",
   "name": "python3"
  },
  "language_info": {
   "codemirror_mode": {
    "name": "ipython",
    "version": 3
   },
   "file_extension": ".py",
   "mimetype": "text/x-python",
   "name": "python",
   "nbconvert_exporter": "python",
   "pygments_lexer": "ipython3",
   "version": "3.12.2"
  }
 },
 "nbformat": 4,
 "nbformat_minor": 5
}
